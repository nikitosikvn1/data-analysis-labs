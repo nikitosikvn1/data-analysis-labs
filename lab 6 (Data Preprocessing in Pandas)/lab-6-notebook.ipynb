{
 "cells": [
  {
   "cell_type": "code",
   "execution_count": 1,
   "id": "79381e3f-5513-44fc-84ef-232d65d3f9b4",
   "metadata": {},
   "outputs": [],
   "source": [
    "import pandas as pd"
   ]
  },
  {
   "cell_type": "markdown",
   "id": "9e550aa5-f0dc-4645-adb9-332afa08af1d",
   "metadata": {},
   "source": [
    "## Читає файл та змінює назви стовпців"
   ]
  },
  {
   "cell_type": "code",
   "execution_count": 2,
   "id": "5d4cd86d-d2ce-4fba-98f5-dee6784516a1",
   "metadata": {},
   "outputs": [],
   "source": [
    "df = pd.read_html('data/data.html')[0]\n",
    "df.columns = ['Temp', 'L_value', 'R_value', 'A_M_value', 'Color_value', 'Spectral_Class_value', 'Type_value']"
   ]
  },
  {
   "cell_type": "code",
   "execution_count": 3,
   "id": "5675f0aa-b9a1-40d3-86ac-aa5707d79555",
   "metadata": {},
   "outputs": [
    {
     "name": "stdout",
     "output_type": "stream",
     "text": [
      "<class 'pandas.core.frame.DataFrame'>\n",
      "RangeIndex: 261 entries, 0 to 260\n",
      "Data columns (total 7 columns):\n",
      " #   Column                Non-Null Count  Dtype  \n",
      "---  ------                --------------  -----  \n",
      " 0   Temp                  261 non-null    int64  \n",
      " 1   L_value               259 non-null    float64\n",
      " 2   R_value               258 non-null    float64\n",
      " 3   A_M_value             258 non-null    float64\n",
      " 4   Color_value           260 non-null    object \n",
      " 5   Spectral_Class_value  259 non-null    object \n",
      " 6   Type_value            258 non-null    float64\n",
      "dtypes: float64(4), int64(1), object(2)\n",
      "memory usage: 14.4+ KB\n"
     ]
    }
   ],
   "source": [
    "df.info()"
   ]
  },
  {
   "cell_type": "markdown",
   "id": "4539f823-4c77-4b52-aa9a-5aaa314822a4",
   "metadata": {},
   "source": [
    "df.describe()"
   ]
  },
  {
   "cell_type": "markdown",
   "id": "e55e847b-8eba-4aef-8507-c4b1892fbbef",
   "metadata": {},
   "source": [
    "## Перевірка на наявність пропущених значень"
   ]
  },
  {
   "cell_type": "code",
   "execution_count": 4,
   "id": "a060b600-303e-40a3-bc84-642afbe190ef",
   "metadata": {},
   "outputs": [
    {
     "name": "stdout",
     "output_type": "stream",
     "text": [
      "Temp                    0\n",
      "L_value                 2\n",
      "R_value                 3\n",
      "A_M_value               3\n",
      "Color_value             1\n",
      "Spectral_Class_value    2\n",
      "Type_value              3\n",
      "dtype: int64\n"
     ]
    }
   ],
   "source": [
    "print(df.isnull().sum())"
   ]
  },
  {
   "cell_type": "markdown",
   "id": "4a12aac6-50bb-4a14-b35b-f9dd60512103",
   "metadata": {},
   "source": [
    "## Заповнення пропущених значень"
   ]
  },
  {
   "cell_type": "code",
   "execution_count": 5,
   "id": "5f4c29a1-6320-4511-9ace-53437d0fc93e",
   "metadata": {},
   "outputs": [],
   "source": [
    "# Заповнення пропущених значень в числових стовпцях середнім значенням цих стовпців\n",
    "for col in df.select_dtypes(include=['float64', 'int64']).columns:\n",
    "    df[col].fillna(df[col].mean(), inplace=True)\n",
    "\n",
    "# Заповнення пропущених значень в нечислових стовпцях модою (найчастіше зустрічається значення) цих стовпців\n",
    "for col in df.select_dtypes(include=['object']).columns:\n",
    "    df[col].fillna(df[col].mode()[0], inplace=True)"
   ]
  },
  {
   "cell_type": "markdown",
   "id": "1a2eae21-4560-43af-8990-5b75d8b4fe3d",
   "metadata": {},
   "source": [
    "## Перевірка аномальних значень"
   ]
  },
  {
   "cell_type": "code",
   "execution_count": 6,
   "id": "9a1b8fcc-b6c4-4a2c-8fa4-f606a55f124f",
   "metadata": {},
   "outputs": [
    {
     "name": "stdout",
     "output_type": "stream",
     "text": [
      "BEFORE: Outliers in Temp: 9\n",
      "AFTER: Outliers in Temp: 0\n",
      "\n",
      "BEFORE: Outliers in L_value: 13\n",
      "AFTER: Outliers in L_value: 0\n",
      "\n",
      "BEFORE: Outliers in R_value: 47\n",
      "AFTER: Outliers in R_value: 0\n",
      "\n",
      "BEFORE: Outliers in A_M_value: 0\n",
      "AFTER: Outliers in A_M_value: 0\n",
      "\n",
      "BEFORE: Outliers in Type_value: 0\n",
      "AFTER: Outliers in Type_value: 0\n",
      "\n",
      "\n",
      "        Temp           L_value             R_value      \n",
      "        self   other      self other          self other\n",
      "30   39000.0  6850.0       NaN   NaN           NaN   NaN\n",
      "50       NaN     NaN       NaN   NaN   1520.000000   1.8\n",
      "51       NaN     NaN       NaN   NaN   1260.000000   1.8\n",
      "52       NaN     NaN       NaN   NaN   1183.000000   1.8\n",
      "53       NaN     NaN  550000.0  1.43   1648.000000   1.8\n",
      "54       NaN     NaN       NaN   NaN   1324.000000   1.8\n",
      "55       NaN     NaN       NaN   NaN   1349.000000   1.8\n",
      "56       NaN     NaN       NaN   NaN   1673.000000   1.8\n",
      "57       NaN     NaN       NaN   NaN   1284.000000   1.8\n",
      "58       NaN     NaN       NaN   NaN    955.000000   1.8\n",
      "59       NaN     NaN       NaN   NaN   1546.000000   1.8\n",
      "60       NaN     NaN       NaN   NaN    441.395745   1.8\n",
      "96   99999.0  6850.0       NaN   NaN  52222.000000   1.8\n",
      "100  36108.0  6850.0       NaN   NaN           NaN   NaN\n",
      "102  40000.0  6850.0  813000.0  1.43           NaN   NaN\n",
      "111      NaN     NaN       NaN   NaN   1289.000000   1.8\n",
      "112      NaN     NaN       NaN   NaN   1124.000000   1.8\n",
      "113      NaN     NaN       NaN   NaN   1635.000000   1.8\n",
      "114      NaN     NaN       NaN   NaN   1486.000000   1.8\n",
      "115      NaN     NaN       NaN   NaN   1522.000000   1.8\n",
      "116      NaN     NaN       NaN   NaN   1324.000000   1.8\n",
      "117      NaN     NaN       NaN   NaN   1534.000000   1.8\n",
      "118      NaN     NaN       NaN   NaN    876.000000   1.8\n",
      "119      NaN     NaN       NaN   NaN   1467.000000   1.8\n",
      "120      NaN     NaN       NaN   NaN   1324.000000   1.8\n",
      "133      NaN     NaN       NaN   NaN    441.395745   1.8\n",
      "160  37800.0  6850.0       NaN   NaN           NaN   NaN\n",
      "171      NaN     NaN       NaN   NaN   1480.000000   1.8\n",
      "172      NaN     NaN       NaN   NaN   1420.000000   1.8\n",
      "173      NaN     NaN  630000.0  1.43   1315.000000   1.8\n",
      "174      NaN     NaN       NaN   NaN   1679.000000   1.8\n",
      "175      NaN     NaN       NaN   NaN   1190.000000   1.8\n",
      "176      NaN     NaN       NaN   NaN   1553.000000   1.8\n",
      "177      NaN     NaN       NaN   NaN   1045.000000   1.8\n",
      "178      NaN     NaN       NaN   NaN   1779.000000   1.8\n",
      "179      NaN     NaN       NaN   NaN    708.900000   1.8\n",
      "180      NaN     NaN       NaN   NaN   1134.500000   1.8\n",
      "226      NaN     NaN  537430.0  1.43           NaN   NaN\n",
      "229      NaN     NaN  593900.0  1.43           NaN   NaN\n",
      "230      NaN     NaN  783930.0  1.43           NaN   NaN\n",
      "232      NaN     NaN  748890.0  1.43           NaN   NaN\n",
      "233      NaN     NaN       NaN   NaN   1494.000000   1.8\n",
      "234  38234.0  6850.0       NaN   NaN   1356.000000   1.8\n",
      "235      NaN     NaN  648430.0  1.43   1948.500000   1.8\n",
      "236      NaN     NaN  849420.0  1.43   1252.000000   1.8\n",
      "237      NaN     NaN  748490.0  1.43   1130.000000   1.8\n",
      "238  38940.0  6850.0       NaN   NaN   1356.000000   1.8\n",
      "239      NaN     NaN  834042.0  1.43   1194.000000   1.8\n",
      "240      NaN     NaN  537493.0  1.43   1423.000000   1.8\n",
      "241      NaN     NaN       NaN   NaN    441.395745   1.8\n",
      "242      NaN     NaN       NaN   NaN   1112.000000   1.8\n",
      "243  37882.0  6850.0       NaN   NaN   1783.000000   1.8\n",
      "247  37800.0  6850.0       NaN   NaN           NaN   NaN\n",
      "258      NaN     NaN       NaN   NaN   1480.000000   1.8\n",
      "259      NaN     NaN       NaN   NaN   1420.000000   1.8\n",
      "260      NaN     NaN  630000.0  1.43   1315.000000   1.8\n"
     ]
    }
   ],
   "source": [
    "df_original = df.copy()\n",
    "numeric_cols = df.select_dtypes(include=['float64', 'int64'])\n",
    "\n",
    "for col in numeric_cols:\n",
    "    Q1 = df[col].quantile(0.25)\n",
    "    Q3 = df[col].quantile(0.75)\n",
    "    IQR = Q3 - Q1\n",
    "\n",
    "    # Визначення меж викидів\n",
    "    lower_bound = Q1 - 1.5 * IQR\n",
    "    upper_bound = Q3 + 1.5 * IQR\n",
    "\n",
    "    # Виявлення викидів\n",
    "    outliers = df[(df[col] < lower_bound) | (df[col] > upper_bound)]\n",
    "    print(f\"BEFORE: Outliers in {col}: {len(outliers)}\")\n",
    "\n",
    "    # Заміна значень викидів на медіану\n",
    "    df.loc[df[col] < lower_bound, col] = df[col].median()\n",
    "    df.loc[df[col] > upper_bound, col] = df[col].median()\n",
    "\n",
    "    # Кількість викидів після заміни\n",
    "    outliers = df[(df[col] < lower_bound) | (df[col] > upper_bound)]\n",
    "    print(f\"AFTER: Outliers in {col}: {len(outliers)}\\n\")\n",
    "\n",
    "# До / після\n",
    "diff = df_original.compare(df)\n",
    "print(f'\\n{diff}')"
   ]
  },
  {
   "cell_type": "markdown",
   "id": "82b8b928-cfe6-4f63-acf2-c42de19c3016",
   "metadata": {},
   "source": [
    "## Перевірка на наявність дублікатів та їх видалення"
   ]
  },
  {
   "cell_type": "code",
   "execution_count": 7,
   "id": "579b3833-26a2-4c97-941e-af1e4693df03",
   "metadata": {},
   "outputs": [
    {
     "name": "stdout",
     "output_type": "stream",
     "text": [
      "19\n"
     ]
    }
   ],
   "source": [
    "print(df.duplicated().sum())\n",
    "df.drop_duplicates(inplace=True)"
   ]
  }
 ],
 "metadata": {
  "kernelspec": {
   "display_name": "Python 3 (ipykernel)",
   "language": "python",
   "name": "python3"
  },
  "language_info": {
   "codemirror_mode": {
    "name": "ipython",
    "version": 3
   },
   "file_extension": ".py",
   "mimetype": "text/x-python",
   "name": "python",
   "nbconvert_exporter": "python",
   "pygments_lexer": "ipython3",
   "version": "3.11.6"
  }
 },
 "nbformat": 4,
 "nbformat_minor": 5
}
