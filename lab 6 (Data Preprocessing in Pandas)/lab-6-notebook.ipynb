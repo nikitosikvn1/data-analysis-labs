{
 "cells": [
  {
   "cell_type": "code",
   "execution_count": 1,
   "id": "79381e3f-5513-44fc-84ef-232d65d3f9b4",
   "metadata": {},
   "outputs": [],
   "source": [
    "import pandas as pd"
   ]
  },
  {
   "cell_type": "markdown",
   "id": "9e550aa5-f0dc-4645-adb9-332afa08af1d",
   "metadata": {},
   "source": [
    "## Читає файл та змінює назви стовпців"
   ]
  },
  {
   "cell_type": "code",
   "execution_count": 2,
   "id": "5d4cd86d-d2ce-4fba-98f5-dee6784516a1",
   "metadata": {},
   "outputs": [],
   "source": [
    "df = pd.read_html('data/data.html')[0]\n",
    "df.columns = ['Temp', 'L_value', 'R_value', 'A_M_value', 'Color_value', 'Spectral_Class_value', 'Type_value']"
   ]
  },
  {
   "cell_type": "code",
   "execution_count": 3,
   "id": "5675f0aa-b9a1-40d3-86ac-aa5707d79555",
   "metadata": {},
   "outputs": [
    {
     "name": "stdout",
     "output_type": "stream",
     "text": [
      "<class 'pandas.core.frame.DataFrame'>\n",
      "RangeIndex: 261 entries, 0 to 260\n",
      "Data columns (total 7 columns):\n",
      " #   Column                Non-Null Count  Dtype  \n",
      "---  ------                --------------  -----  \n",
      " 0   Temp                  261 non-null    int64  \n",
      " 1   L_value               259 non-null    float64\n",
      " 2   R_value               258 non-null    float64\n",
      " 3   A_M_value             258 non-null    float64\n",
      " 4   Color_value           260 non-null    object \n",
      " 5   Spectral_Class_value  259 non-null    object \n",
      " 6   Type_value            258 non-null    float64\n",
      "dtypes: float64(4), int64(1), object(2)\n",
      "memory usage: 14.4+ KB\n"
     ]
    }
   ],
   "source": [
    "df.info()"
   ]
  },
  {
   "cell_type": "markdown",
   "id": "4539f823-4c77-4b52-aa9a-5aaa314822a4",
   "metadata": {},
   "source": [
    "df.describe()"
   ]
  },
  {
   "cell_type": "markdown",
   "id": "e55e847b-8eba-4aef-8507-c4b1892fbbef",
   "metadata": {},
   "source": [
    "## Перевірка на наявність пропущених значень"
   ]
  },
  {
   "cell_type": "code",
   "execution_count": 4,
   "id": "a060b600-303e-40a3-bc84-642afbe190ef",
   "metadata": {},
   "outputs": [
    {
     "name": "stdout",
     "output_type": "stream",
     "text": [
      "Temp                    0\n",
      "L_value                 2\n",
      "R_value                 3\n",
      "A_M_value               3\n",
      "Color_value             1\n",
      "Spectral_Class_value    2\n",
      "Type_value              3\n",
      "dtype: int64\n"
     ]
    }
   ],
   "source": [
    "print(df.isnull().sum())"
   ]
  },
  {
   "cell_type": "markdown",
   "id": "4a12aac6-50bb-4a14-b35b-f9dd60512103",
   "metadata": {},
   "source": [
    "## Заповнення пропущених значень"
   ]
  },
  {
   "cell_type": "code",
   "execution_count": 5,
   "id": "5f4c29a1-6320-4511-9ace-53437d0fc93e",
   "metadata": {},
   "outputs": [],
   "source": [
    "# Заповнення пропущених значень в числових стовпцях середнім значенням цих стовпців\n",
    "for col in df.select_dtypes(include=['float64', 'int64']).columns:\n",
    "    df[col].fillna(df[col].mean(), inplace=True)\n",
    "\n",
    "# Заповнення пропущених значень в нечислових стовпцях модою (найчастіше зустрічається значення) цих стовпців\n",
    "for col in df.select_dtypes(include=['object']).columns:\n",
    "    df[col].fillna(df[col].mode()[0], inplace=True)"
   ]
  },
  {
   "cell_type": "markdown",
   "id": "1a2eae21-4560-43af-8990-5b75d8b4fe3d",
   "metadata": {},
   "source": [
    "## Перевірка аномальних значень"
   ]
  },
  {
   "cell_type": "code",
   "execution_count": 6,
   "id": "9a1b8fcc-b6c4-4a2c-8fa4-f606a55f124f",
   "metadata": {},
   "outputs": [
    {
     "name": "stdout",
     "output_type": "stream",
     "text": [
      "BEFORE: Outliers in Temp: 9\n",
      "AFTER: Outliers in Temp: 0\n",
      "\n",
      "BEFORE: Outliers in L_value: 13\n",
      "AFTER: Outliers in L_value: 0\n",
      "\n",
      "BEFORE: Outliers in R_value: 47\n",
      "AFTER: Outliers in R_value: 0\n",
      "\n",
      "BEFORE: Outliers in A_M_value: 0\n",
      "AFTER: Outliers in A_M_value: 0\n",
      "\n",
      "BEFORE: Outliers in Type_value: 0\n",
      "AFTER: Outliers in Type_value: 0\n",
      "\n",
      "\n",
      "        Temp           L_value             R_value      \n",
      "        self   other      self other          self other\n",
      "30   39000.0  6850.0       NaN   NaN           NaN   NaN\n",
      "50       NaN     NaN       NaN   NaN   1520.000000   1.8\n",
      "51       NaN     NaN       NaN   NaN   1260.000000   1.8\n",
      "52       NaN     NaN       NaN   NaN   1183.000000   1.8\n",
      "53       NaN     NaN  550000.0  1.43   1648.000000   1.8\n",
      "54       NaN     NaN       NaN   NaN   1324.000000   1.8\n",
      "55       NaN     NaN       NaN   NaN   1349.000000   1.8\n",
      "56       NaN     NaN       NaN   NaN   1673.000000   1.8\n",
      "57       NaN     NaN       NaN   NaN   1284.000000   1.8\n",
      "58       NaN     NaN       NaN   NaN    955.000000   1.8\n",
      "59       NaN     NaN       NaN   NaN   1546.000000   1.8\n",
      "60       NaN     NaN       NaN   NaN    441.395745   1.8\n",
      "96   99999.0  6850.0       NaN   NaN  52222.000000   1.8\n",
      "100  36108.0  6850.0       NaN   NaN           NaN   NaN\n",
      "102  40000.0  6850.0  813000.0  1.43           NaN   NaN\n",
      "111      NaN     NaN       NaN   NaN   1289.000000   1.8\n",
      "112      NaN     NaN       NaN   NaN   1124.000000   1.8\n",
      "113      NaN     NaN       NaN   NaN   1635.000000   1.8\n",
      "114      NaN     NaN       NaN   NaN   1486.000000   1.8\n",
      "115      NaN     NaN       NaN   NaN   1522.000000   1.8\n",
      "116      NaN     NaN       NaN   NaN   1324.000000   1.8\n",
      "117      NaN     NaN       NaN   NaN   1534.000000   1.8\n",
      "118      NaN     NaN       NaN   NaN    876.000000   1.8\n",
      "119      NaN     NaN       NaN   NaN   1467.000000   1.8\n",
      "120      NaN     NaN       NaN   NaN   1324.000000   1.8\n",
      "133      NaN     NaN       NaN   NaN    441.395745   1.8\n",
      "160  37800.0  6850.0       NaN   NaN           NaN   NaN\n",
      "171      NaN     NaN       NaN   NaN   1480.000000   1.8\n",
      "172      NaN     NaN       NaN   NaN   1420.000000   1.8\n",
      "173      NaN     NaN  630000.0  1.43   1315.000000   1.8\n",
      "174      NaN     NaN       NaN   NaN   1679.000000   1.8\n",
      "175      NaN     NaN       NaN   NaN   1190.000000   1.8\n",
      "176      NaN     NaN       NaN   NaN   1553.000000   1.8\n",
      "177      NaN     NaN       NaN   NaN   1045.000000   1.8\n",
      "178      NaN     NaN       NaN   NaN   1779.000000   1.8\n",
      "179      NaN     NaN       NaN   NaN    708.900000   1.8\n",
      "180      NaN     NaN       NaN   NaN   1134.500000   1.8\n",
      "226      NaN     NaN  537430.0  1.43           NaN   NaN\n",
      "229      NaN     NaN  593900.0  1.43           NaN   NaN\n",
      "230      NaN     NaN  783930.0  1.43           NaN   NaN\n",
      "232      NaN     NaN  748890.0  1.43           NaN   NaN\n",
      "233      NaN     NaN       NaN   NaN   1494.000000   1.8\n",
      "234  38234.0  6850.0       NaN   NaN   1356.000000   1.8\n",
      "235      NaN     NaN  648430.0  1.43   1948.500000   1.8\n",
      "236      NaN     NaN  849420.0  1.43   1252.000000   1.8\n",
      "237      NaN     NaN  748490.0  1.43   1130.000000   1.8\n",
      "238  38940.0  6850.0       NaN   NaN   1356.000000   1.8\n",
      "239      NaN     NaN  834042.0  1.43   1194.000000   1.8\n",
      "240      NaN     NaN  537493.0  1.43   1423.000000   1.8\n",
      "241      NaN     NaN       NaN   NaN    441.395745   1.8\n",
      "242      NaN     NaN       NaN   NaN   1112.000000   1.8\n",
      "243  37882.0  6850.0       NaN   NaN   1783.000000   1.8\n",
      "247  37800.0  6850.0       NaN   NaN           NaN   NaN\n",
      "258      NaN     NaN       NaN   NaN   1480.000000   1.8\n",
      "259      NaN     NaN       NaN   NaN   1420.000000   1.8\n",
      "260      NaN     NaN  630000.0  1.43   1315.000000   1.8\n"
     ]
    }
   ],
   "source": [
    "df_original = df.copy()\n",
    "numeric_cols = df.select_dtypes(include=['float64', 'int64'])\n",
    "\n",
    "for col in numeric_cols:\n",
    "    Q1 = df[col].quantile(0.25)\n",
    "    Q3 = df[col].quantile(0.75)\n",
    "    IQR = Q3 - Q1\n",
    "\n",
    "    # Визначення меж викидів\n",
    "    lower_bound = Q1 - 1.5 * IQR\n",
    "    upper_bound = Q3 + 1.5 * IQR\n",
    "\n",
    "    # Виявлення викидів\n",
    "    outliers = df[(df[col] < lower_bound) | (df[col] > upper_bound)]\n",
    "    print(f\"BEFORE: Outliers in {col}: {len(outliers)}\")\n",
    "\n",
    "    # Заміна значень викидів на медіану\n",
    "    df.loc[df[col] < lower_bound, col] = df[col].median()\n",
    "    df.loc[df[col] > upper_bound, col] = df[col].median()\n",
    "\n",
    "    # Кількість викидів після заміни\n",
    "    outliers = df[(df[col] < lower_bound) | (df[col] > upper_bound)]\n",
    "    print(f\"AFTER: Outliers in {col}: {len(outliers)}\\n\")\n",
    "\n",
    "# До / після\n",
    "diff = df_original.compare(df)\n",
    "print(f'\\n{diff}')"
   ]
  },
  {
   "cell_type": "markdown",
   "id": "f8218395-2905-43ed-8b67-316930f47c09",
   "metadata": {},
   "source": [
    "## Cкільки разів кожне унікальне значення з'являється в стовпці"
   ]
  },
  {
   "cell_type": "code",
   "execution_count": 7,
   "id": "8ddd5f8d-71da-4e5e-a631-10c7635d4522",
   "metadata": {},
   "outputs": [
    {
     "name": "stdout",
     "output_type": "stream",
     "text": [
      "Color_value\n",
      "Red                    116\n",
      "Blue                    67\n",
      "Blue-white              30\n",
      "Blue White              10\n",
      "yellow-white             8\n",
      "White                    7\n",
      "Yellowish White          3\n",
      "Orange                   3\n",
      "white                    3\n",
      "Blue white               3\n",
      "Whitish                  2\n",
      "yellowish                2\n",
      "Pale yellow orange       1\n",
      "What is the color?       1\n",
      "White-Yellow             1\n",
      "Yellowish                1\n",
      "Something very DARK      1\n",
      "Orange-Red               1\n",
      "Blue-White               1\n",
      "Name: count, dtype: int64\n",
      "\n",
      "\n",
      "Spectral_Class_value\n",
      "M        116\n",
      "O         51\n",
      "B         48\n",
      "A         20\n",
      "F         17\n",
      "K          7\n",
      "ERROR      1\n",
      "G          1\n",
      "Name: count, dtype: int64\n"
     ]
    }
   ],
   "source": [
    "print(df['Color_value'].value_counts())\n",
    "print('\\n')\n",
    "print(df['Spectral_Class_value'].value_counts())"
   ]
  },
  {
   "cell_type": "markdown",
   "id": "4f176a86-a638-4d37-a703-b0042e1bb56f",
   "metadata": {},
   "source": [
    "## Стандартизація значень"
   ]
  },
  {
   "cell_type": "code",
   "execution_count": 8,
   "id": "b4b03a98-94d4-490a-8f61-4eff7f088c2c",
   "metadata": {},
   "outputs": [
    {
     "name": "stdout",
     "output_type": "stream",
     "text": [
      "Color_value\n",
      "Red                    116\n",
      "Blue                    67\n",
      "Blue-White              44\n",
      "White                   10\n",
      "Yellow-White             8\n",
      "Yellowish-White          3\n",
      "Orange                   3\n",
      "Yellowish                3\n",
      "Whitish                  2\n",
      "What-Is-The-Color?       1\n",
      "Pale-Yellow-Orange       1\n",
      "White-Yellow             1\n",
      "Something-Very-Dark      1\n",
      "Orange-Red               1\n",
      "Name: count, dtype: int64\n"
     ]
    }
   ],
   "source": [
    "# З попередньогу виводу можна помітити проблему, коли один і той же колір може бути представленний по різному:\n",
    "# - Blue-white\n",
    "# - Blue White\n",
    "# - Blue-White\n",
    "#\n",
    "# Щоб вирішити цю проблему ми можемо привести всі значення до єдиного вигляду, тобто стандартизувати їх\n",
    "# Приведемо всі кольори до вигляду: 'Color', 'Color-Color'\n",
    "df['Color_value'] = df['Color_value'].str.title().str.replace(' ', '-')\n",
    "print(df['Color_value'].value_counts())"
   ]
  },
  {
   "cell_type": "markdown",
   "id": "04640a94-49e4-47a8-a235-8ecd8238c7b8",
   "metadata": {},
   "source": [
    "## Видалення рядків з помилковими категоріальними значеннями"
   ]
  },
  {
   "cell_type": "code",
   "execution_count": 9,
   "id": "11cf8754-d955-4d18-9c77-c92e34eecc10",
   "metadata": {},
   "outputs": [
    {
     "name": "stdout",
     "output_type": "stream",
     "text": [
      "Invalid rows:\n",
      "    Temp      L_value  R_value  A_M_value          Color_value  \\\n",
      "26  8570      0.00081   0.0097  14.200000   What-Is-The-Color?   \n",
      "29  7230      0.00008   0.0130  14.080000   Pale-Yellow-Orange   \n",
      "96  6850  55222.00000   1.8000   3.769922  Something-Very-Dark   \n",
      "\n",
      "   Spectral_Class_value  Type_value  \n",
      "26                    A    2.000000  \n",
      "29                    F    2.000000  \n",
      "96                ERROR    2.596899  \n"
     ]
    }
   ],
   "source": [
    "# Трохи контексту\n",
    "#\n",
    "# Датафрейм містить інформацію про різні зорі. В данному випадку нас цікавлять стовбці з типом 'object',\n",
    "# тобто 'Color_value' та 'Spectral_Class_value', які представляють колір зірки та її спектральний клас відповідно.\n",
    "# Спектральний клас зірки визначається за допомогою системи класифікації Гарварда, яка базується на температурі зірки.\n",
    "# Ця классифікація представляє собою розподіл зірок за діапазоном температур, де кожен клас представлений певною\n",
    "# латинською літерою:\n",
    "# - O: Найгарячіші зірки, з температурою від 30,000 до 60,000 Кельвінів. Вони випромінюють синє світло.\n",
    "# - B: Гарячі зірки, з температурою від 10,000 до 30,000 Кельвінів. Вони випромінюють синьо-біле світло.\n",
    "# - A: Зірки середньої температури, з температурою від 7,500 до 10,000 Кельвінів. Вони випромінюють біле світло.\n",
    "# - F: Зірки з температурою від 6,000 до 7,500 Кельвінів. Вони випромінюють біло-жовте світло.\n",
    "# - G: Зірки з температурою від 5,200 до 6,000 Кельвінів. Вони випромінюють жовте світло. Сонце належить до цього класу.\n",
    "# - K: Зірки з температурою від 3,700 до 5,200 Кельвінів. Вони випромінюють помаранчеве світло.\n",
    "# - M: Найхолодніші зірки, з температурою менше 3,700 Кельвінів. Вони випромінюють червоне світло.\n",
    "#\n",
    "# Таким чином ми маємо чіткий перелік допустимих значень для стовбця 'Spectral_Class_value' та можемо приблизно розуміти\n",
    "# які кольори вважати допустимими.\n",
    "df_original = df.copy()\n",
    "\n",
    "valid_spectral_classes = ['O', 'B', 'A', 'F', 'G', 'K', 'M']\n",
    "valid_colors = [\n",
    "    'Blue',\n",
    "    'Blue-White',\n",
    "    'White',\n",
    "    'Whitish',\n",
    "    'Yellow-White',\n",
    "    'Yellowish-White',\n",
    "    'White-Yellow',\n",
    "    'Yellow',\n",
    "    'Yellowish',\n",
    "    'Orange',\n",
    "    'Orange-Red',\n",
    "    'Red',\n",
    "]\n",
    "\n",
    "invalid_color_mask = ~df_original['Color_value'].isin(valid_colors)\n",
    "invalid_spectral_class_mask = ~df_original['Spectral_Class_value'].isin(valid_spectral_classes)\n",
    "\n",
    "invalid_rows = df_original[invalid_color_mask | invalid_spectral_class_mask]\n",
    "print(f'Invalid rows:\\n{invalid_rows}')\n",
    "\n",
    "valid_rows_mask = df['Color_value'].isin(valid_colors) & df['Spectral_Class_value'].isin(valid_spectral_classes)\n",
    "df = df[valid_rows_mask]\n",
    "\n",
    "# Звісно можна піти далі і перевіряти чи відовідає фактична температура зірки діапазону температур\n",
    "# її спектрального классу (і теж саме з кольором), але я не знаю наскільки це виправдано в даному випадку."
   ]
  },
  {
   "cell_type": "markdown",
   "id": "82b8b928-cfe6-4f63-acf2-c42de19c3016",
   "metadata": {},
   "source": [
    "## Перевірка на наявність дублікатів та їх видалення"
   ]
  },
  {
   "cell_type": "code",
   "execution_count": 10,
   "id": "579b3833-26a2-4c97-941e-af1e4693df03",
   "metadata": {},
   "outputs": [
    {
     "name": "stdout",
     "output_type": "stream",
     "text": [
      "19\n"
     ]
    }
   ],
   "source": [
    "print(df.duplicated().sum())\n",
    "df.drop_duplicates(inplace=True)"
   ]
  }
 ],
 "metadata": {
  "kernelspec": {
   "display_name": "Python 3 (ipykernel)",
   "language": "python",
   "name": "python3"
  },
  "language_info": {
   "codemirror_mode": {
    "name": "ipython",
    "version": 3
   },
   "file_extension": ".py",
   "mimetype": "text/x-python",
   "name": "python",
   "nbconvert_exporter": "python",
   "pygments_lexer": "ipython3",
   "version": "3.11.6"
  }
 },
 "nbformat": 4,
 "nbformat_minor": 5
}
