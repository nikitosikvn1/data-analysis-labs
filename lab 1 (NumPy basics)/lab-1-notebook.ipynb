{
 "cells": [
  {
   "cell_type": "code",
   "execution_count": 1,
   "id": "07b4fcec-3ceb-4260-992a-348d6313da0b",
   "metadata": {
    "editable": true,
    "slideshow": {
     "slide_type": ""
    },
    "tags": []
   },
   "outputs": [],
   "source": [
    "import numpy as np\n",
    "import pandas as pd\n",
    "from pprint import pprint"
   ]
  },
  {
   "cell_type": "code",
   "execution_count": 2,
   "id": "7f78a4e1-8176-4c75-8b29-40ca479bf00f",
   "metadata": {},
   "outputs": [
    {
     "name": "stdout",
     "output_type": "stream",
     "text": [
      "sepal_length,sepal_width,petal_length,petal_width,class\n",
      "5.1,3.5,1.4,0.2,Iris-setosa\n",
      "4.9,3.0,1.4,0.2,Iris-setosa\n",
      "4.7,3.2,1.3,0.2,Iris-setosa\n",
      "4.6,3.1,1.5,0.2,Iris-setosa\n",
      "5.0,3.6,1.4,0.2,Iris-setosa\n",
      "5.4,3.9,1.7,0.4,Iris-setosa\n",
      "4.6,3.4,1.4,0.3,Iris-setosa\n",
      "5.0,3.4,1.5,0.2,Iris-setosa\n",
      "4.4,2.9,1.4,0.2,Iris-setosa\n"
     ]
    }
   ],
   "source": [
    "!head -n 10 data/iris.csv"
   ]
  },
  {
   "cell_type": "markdown",
   "id": "882c72d2-ba57-425b-a6fe-25e5097f0782",
   "metadata": {},
   "source": [
    "### Reading a table using pandas"
   ]
  },
  {
   "cell_type": "code",
   "execution_count": 3,
   "id": "15ef01c8-63eb-43e1-8338-b61659de973e",
   "metadata": {},
   "outputs": [
    {
     "data": {
      "text/html": [
       "<div>\n",
       "<style scoped>\n",
       "    .dataframe tbody tr th:only-of-type {\n",
       "        vertical-align: middle;\n",
       "    }\n",
       "\n",
       "    .dataframe tbody tr th {\n",
       "        vertical-align: top;\n",
       "    }\n",
       "\n",
       "    .dataframe thead th {\n",
       "        text-align: right;\n",
       "    }\n",
       "</style>\n",
       "<table border=\"1\" class=\"dataframe\">\n",
       "  <thead>\n",
       "    <tr style=\"text-align: right;\">\n",
       "      <th></th>\n",
       "      <th>sepal_length</th>\n",
       "      <th>sepal_width</th>\n",
       "      <th>petal_length</th>\n",
       "      <th>petal_width</th>\n",
       "      <th>class</th>\n",
       "    </tr>\n",
       "  </thead>\n",
       "  <tbody>\n",
       "    <tr>\n",
       "      <th>0</th>\n",
       "      <td>5.1</td>\n",
       "      <td>3.5</td>\n",
       "      <td>1.4</td>\n",
       "      <td>0.2</td>\n",
       "      <td>Iris-setosa</td>\n",
       "    </tr>\n",
       "    <tr>\n",
       "      <th>1</th>\n",
       "      <td>4.9</td>\n",
       "      <td>3.0</td>\n",
       "      <td>1.4</td>\n",
       "      <td>0.2</td>\n",
       "      <td>Iris-setosa</td>\n",
       "    </tr>\n",
       "    <tr>\n",
       "      <th>2</th>\n",
       "      <td>4.7</td>\n",
       "      <td>3.2</td>\n",
       "      <td>1.3</td>\n",
       "      <td>0.2</td>\n",
       "      <td>Iris-setosa</td>\n",
       "    </tr>\n",
       "    <tr>\n",
       "      <th>3</th>\n",
       "      <td>4.6</td>\n",
       "      <td>3.1</td>\n",
       "      <td>1.5</td>\n",
       "      <td>0.2</td>\n",
       "      <td>Iris-setosa</td>\n",
       "    </tr>\n",
       "    <tr>\n",
       "      <th>4</th>\n",
       "      <td>5.0</td>\n",
       "      <td>3.6</td>\n",
       "      <td>1.4</td>\n",
       "      <td>0.2</td>\n",
       "      <td>Iris-setosa</td>\n",
       "    </tr>\n",
       "  </tbody>\n",
       "</table>\n",
       "</div>"
      ],
      "text/plain": [
       "   sepal_length  sepal_width  petal_length  petal_width        class\n",
       "0           5.1          3.5           1.4          0.2  Iris-setosa\n",
       "1           4.9          3.0           1.4          0.2  Iris-setosa\n",
       "2           4.7          3.2           1.3          0.2  Iris-setosa\n",
       "3           4.6          3.1           1.5          0.2  Iris-setosa\n",
       "4           5.0          3.6           1.4          0.2  Iris-setosa"
      ]
     },
     "execution_count": 3,
     "metadata": {},
     "output_type": "execute_result"
    }
   ],
   "source": [
    "df = pd.read_csv('data/iris.csv')\n",
    "df.head()"
   ]
  },
  {
   "cell_type": "markdown",
   "id": "bd826db8-76e3-4136-a3fe-0fa61ec540b5",
   "metadata": {},
   "source": [
    "### Basic information about dataframe"
   ]
  },
  {
   "cell_type": "code",
   "execution_count": 4,
   "id": "271093c1-a164-462a-a34a-33acd38ef8a2",
   "metadata": {},
   "outputs": [
    {
     "name": "stdout",
     "output_type": "stream",
     "text": [
      "<class 'pandas.core.frame.DataFrame'>\n",
      "RangeIndex: 150 entries, 0 to 149\n",
      "Data columns (total 5 columns):\n",
      " #   Column        Non-Null Count  Dtype  \n",
      "---  ------        --------------  -----  \n",
      " 0   sepal_length  150 non-null    float64\n",
      " 1   sepal_width   150 non-null    float64\n",
      " 2   petal_length  150 non-null    float64\n",
      " 3   petal_width   150 non-null    float64\n",
      " 4   class         150 non-null    object \n",
      "dtypes: float64(4), object(1)\n",
      "memory usage: 6.0+ KB\n"
     ]
    }
   ],
   "source": [
    "df.info()"
   ]
  },
  {
   "cell_type": "markdown",
   "id": "8892cba2-53a9-4761-a009-aaa0ce3e2d47",
   "metadata": {},
   "source": [
    "### Calculate various statistical metrics for each numeric column\n",
    "We can also get individual values for the columns:\n",
    "```py\n",
    "df['sepal_length'].describe().loc['std']\n",
    "```"
   ]
  },
  {
   "cell_type": "code",
   "execution_count": 5,
   "id": "2582a179-b230-47f9-a472-11b1bba1e86f",
   "metadata": {},
   "outputs": [
    {
     "data": {
      "text/html": [
       "<div>\n",
       "<style scoped>\n",
       "    .dataframe tbody tr th:only-of-type {\n",
       "        vertical-align: middle;\n",
       "    }\n",
       "\n",
       "    .dataframe tbody tr th {\n",
       "        vertical-align: top;\n",
       "    }\n",
       "\n",
       "    .dataframe thead th {\n",
       "        text-align: right;\n",
       "    }\n",
       "</style>\n",
       "<table border=\"1\" class=\"dataframe\">\n",
       "  <thead>\n",
       "    <tr style=\"text-align: right;\">\n",
       "      <th></th>\n",
       "      <th>sepal_length</th>\n",
       "      <th>sepal_width</th>\n",
       "      <th>petal_length</th>\n",
       "      <th>petal_width</th>\n",
       "    </tr>\n",
       "  </thead>\n",
       "  <tbody>\n",
       "    <tr>\n",
       "      <th>count</th>\n",
       "      <td>150.000000</td>\n",
       "      <td>150.000000</td>\n",
       "      <td>150.000000</td>\n",
       "      <td>150.000000</td>\n",
       "    </tr>\n",
       "    <tr>\n",
       "      <th>mean</th>\n",
       "      <td>5.843333</td>\n",
       "      <td>3.054000</td>\n",
       "      <td>3.758667</td>\n",
       "      <td>1.198667</td>\n",
       "    </tr>\n",
       "    <tr>\n",
       "      <th>std</th>\n",
       "      <td>0.828066</td>\n",
       "      <td>0.433594</td>\n",
       "      <td>1.764420</td>\n",
       "      <td>0.763161</td>\n",
       "    </tr>\n",
       "    <tr>\n",
       "      <th>min</th>\n",
       "      <td>4.300000</td>\n",
       "      <td>2.000000</td>\n",
       "      <td>1.000000</td>\n",
       "      <td>0.100000</td>\n",
       "    </tr>\n",
       "    <tr>\n",
       "      <th>25%</th>\n",
       "      <td>5.100000</td>\n",
       "      <td>2.800000</td>\n",
       "      <td>1.600000</td>\n",
       "      <td>0.300000</td>\n",
       "    </tr>\n",
       "    <tr>\n",
       "      <th>50%</th>\n",
       "      <td>5.800000</td>\n",
       "      <td>3.000000</td>\n",
       "      <td>4.350000</td>\n",
       "      <td>1.300000</td>\n",
       "    </tr>\n",
       "    <tr>\n",
       "      <th>75%</th>\n",
       "      <td>6.400000</td>\n",
       "      <td>3.300000</td>\n",
       "      <td>5.100000</td>\n",
       "      <td>1.800000</td>\n",
       "    </tr>\n",
       "    <tr>\n",
       "      <th>max</th>\n",
       "      <td>7.900000</td>\n",
       "      <td>4.400000</td>\n",
       "      <td>6.900000</td>\n",
       "      <td>2.500000</td>\n",
       "    </tr>\n",
       "  </tbody>\n",
       "</table>\n",
       "</div>"
      ],
      "text/plain": [
       "       sepal_length  sepal_width  petal_length  petal_width\n",
       "count    150.000000   150.000000    150.000000   150.000000\n",
       "mean       5.843333     3.054000      3.758667     1.198667\n",
       "std        0.828066     0.433594      1.764420     0.763161\n",
       "min        4.300000     2.000000      1.000000     0.100000\n",
       "25%        5.100000     2.800000      1.600000     0.300000\n",
       "50%        5.800000     3.000000      4.350000     1.300000\n",
       "75%        6.400000     3.300000      5.100000     1.800000\n",
       "max        7.900000     4.400000      6.900000     2.500000"
      ]
     },
     "execution_count": 5,
     "metadata": {},
     "output_type": "execute_result"
    }
   ],
   "source": [
    "df.describe()"
   ]
  },
  {
   "cell_type": "markdown",
   "id": "719bc5e2-5edf-47a7-90e0-bd3e36c1075f",
   "metadata": {},
   "source": [
    "### Statistical metrics for petal width using NumPy"
   ]
  },
  {
   "cell_type": "code",
   "execution_count": 6,
   "id": "f5af0d6c-1fc4-4faa-9cac-257d60c221e7",
   "metadata": {},
   "outputs": [
    {
     "name": "stdout",
     "output_type": "stream",
     "text": [
      "{'min': 0.1,\n",
      " 'max': 2.5,\n",
      " 'average': 1.19867,\n",
      " 'dispersion': 0.57853,\n",
      " 'stdeviation': 0.76061,\n",
      " 'median': 1.3,\n",
      " 'percentiles': [0.3, 1.8]}\n"
     ]
    }
   ],
   "source": [
    "ndarr = np.array(df['petal_width'], dtype='float')\n",
    "\n",
    "pw_dict = {\n",
    "    'min': np.min(ndarr),\n",
    "    'max': np.max(ndarr),\n",
    "    'average': round(np.mean(ndarr), 5),\n",
    "    'dispersion': round(np.var(ndarr), 5),\n",
    "    'stdeviation': round(np.std(ndarr), 5),\n",
    "    'median': np.median(ndarr),\n",
    "    'percentiles': np.percentile(ndarr, (25, 75)).tolist(),\n",
    "}\n",
    "\n",
    "pprint(pw_dict, sort_dicts=False)"
   ]
  },
  {
   "cell_type": "markdown",
   "id": "ff47534b-fd37-486c-a65c-4806be8daac7",
   "metadata": {},
   "source": [
    "## NumPy arrays"
   ]
  },
  {
   "cell_type": "markdown",
   "id": "680ae300-3007-47e9-8578-9e6d1ae1cb49",
   "metadata": {},
   "source": [
    "### ndarray initialization"
   ]
  },
  {
   "cell_type": "code",
   "execution_count": 7,
   "id": "d7adc2a3-4e83-4960-8dea-2fc47d5c078f",
   "metadata": {},
   "outputs": [
    {
     "name": "stdout",
     "output_type": "stream",
     "text": [
      "[ 1  2  4  8 16 32]\n"
     ]
    }
   ],
   "source": [
    "arr = np.array([1, 2, 4, 8, 16, 32], dtype='uint')\n",
    "print(arr)"
   ]
  },
  {
   "cell_type": "code",
   "execution_count": 8,
   "id": "dc67ff38-fdf1-4c92-a6d9-b6f4f11815ce",
   "metadata": {},
   "outputs": [
    {
     "name": "stdout",
     "output_type": "stream",
     "text": [
      "[[-1 -2 -3  0]\n",
      " [ 7 12 45 17]\n",
      " [89  4 67 -8]]\n"
     ]
    }
   ],
   "source": [
    "arr = np.array([\n",
    "    [-1, -2, -3, 0],\n",
    "    [7, 12, 45, 17],\n",
    "    [89, 4, 67, -8],\n",
    "], dtype='int')\n",
    "\n",
    "print(arr)"
   ]
  },
  {
   "cell_type": "code",
   "execution_count": 9,
   "id": "63fb20d1-d145-4d48-abf6-306d30c749a4",
   "metadata": {},
   "outputs": [
    {
     "name": "stdout",
     "output_type": "stream",
     "text": [
      "[ 0. 10. 20. 30. 40. 50. 60. 70. 80. 90.]\n"
     ]
    }
   ],
   "source": [
    "arr = np.arange(0, 100, 10, dtype='float')\n",
    "print(arr)"
   ]
  },
  {
   "cell_type": "code",
   "execution_count": 10,
   "id": "497f5c60-a3bc-4d08-a7ca-e971d97fee2a",
   "metadata": {},
   "outputs": [
    {
     "name": "stdout",
     "output_type": "stream",
     "text": [
      "[1 1 1 1 1 1 1 1 1 1 1 1]\n"
     ]
    }
   ],
   "source": [
    "arr = np.ones(12, dtype='uint')\n",
    "print(arr)"
   ]
  },
  {
   "cell_type": "code",
   "execution_count": 11,
   "id": "232284ea-0c8c-47c1-816f-d249c24af0bf",
   "metadata": {},
   "outputs": [
    {
     "name": "stdout",
     "output_type": "stream",
     "text": [
      "[[0 0 0 0 0 0 0 0]\n",
      " [0 0 0 0 0 0 0 0]\n",
      " [0 0 0 0 0 0 0 0]\n",
      " [0 0 0 0 0 0 0 0]\n",
      " [0 0 0 0 0 0 0 0]\n",
      " [0 0 0 0 0 0 0 0]\n",
      " [0 0 0 0 0 0 0 0]\n",
      " [0 0 0 0 0 0 0 0]]\n"
     ]
    }
   ],
   "source": [
    "arr = np.zeros((8, 8), dtype='uint')\n",
    "print(arr)"
   ]
  },
  {
   "cell_type": "code",
   "execution_count": 12,
   "id": "8ea5d9fb-7fbf-4296-abf7-6b553c60f3c8",
   "metadata": {},
   "outputs": [
    {
     "name": "stdout",
     "output_type": "stream",
     "text": [
      "[-4.  -3.5 -3.  -2.5 -2.  -1.5 -1.  -0.5  0.   0.5  1.   1.5  2.   2.5\n",
      "  3.   3.5  4. ]\n"
     ]
    }
   ],
   "source": [
    "arr = np.linspace(-4, 4, 17)\n",
    "print(arr)"
   ]
  },
  {
   "cell_type": "code",
   "execution_count": 13,
   "id": "c2ed4e42-0318-4bf4-8143-371525175515",
   "metadata": {},
   "outputs": [
    {
     "name": "stdout",
     "output_type": "stream",
     "text": [
      "[[0.73077629 0.84379404 0.96378788 0.0283987  0.14244728]\n",
      " [0.70971158 0.38880207 0.23912219 0.71920356 0.0660731 ]\n",
      " [0.98519819 0.70469275 0.02577313 0.167078   0.58887726]\n",
      " [0.86900249 0.23294121 0.3002606  0.27162322 0.30684567]\n",
      " [0.0830974  0.04561795 0.15381157 0.72786386 0.75013246]]\n"
     ]
    }
   ],
   "source": [
    "arr = np.random.random((5, 5))\n",
    "print(arr)"
   ]
  },
  {
   "cell_type": "code",
   "execution_count": 14,
   "id": "25d7ac03-2a3d-4243-a522-4340cc92376e",
   "metadata": {},
   "outputs": [
    {
     "name": "stdout",
     "output_type": "stream",
     "text": [
      "[[9.76422448 3.45012014 5.15166064]\n",
      " [3.97330508 3.2711411  1.6142528 ]\n",
      " [8.91913001 1.39427902 6.9954141 ]]\n"
     ]
    }
   ],
   "source": [
    "arr = np.random.uniform(0, 10, (3, 3))\n",
    "print(arr)"
   ]
  },
  {
   "cell_type": "code",
   "execution_count": 15,
   "id": "3db363ce-ad20-49b9-905e-44406042c94b",
   "metadata": {},
   "outputs": [
    {
     "name": "stdout",
     "output_type": "stream",
     "text": [
      "[[29 47 22 40 26 46 45]\n",
      " [46 29 48 40 26 42 20]\n",
      " [26 23 45 45 45 40 41]\n",
      " [41 35 45 38 46 45 36]\n",
      " [42 31 49 45 39 25 25]\n",
      " [23 21 21 29 34 35 22]\n",
      " [28 41 41 39 49 44 29]]\n"
     ]
    }
   ],
   "source": [
    "arr = np.random.randint(20, 50, (7, 7))\n",
    "print(arr)"
   ]
  },
  {
   "cell_type": "code",
   "execution_count": 16,
   "id": "c04b4807-7248-44a8-beab-961e58317011",
   "metadata": {},
   "outputs": [
    {
     "name": "stdout",
     "output_type": "stream",
     "text": [
      "[[9.76422448 3.45012014 5.15166064]\n",
      " [3.97330508 3.2711411  1.6142528 ]\n",
      " [8.91913001 1.39427902 6.9954141 ]]\n"
     ]
    }
   ],
   "source": [
    "arr = np.empty((3, 3))\n",
    "print(arr)"
   ]
  },
  {
   "cell_type": "markdown",
   "id": "0a602ce6-a5fc-487f-868d-bc8e212c0750",
   "metadata": {},
   "source": [
    "### Indexing, slicing and basic operations"
   ]
  },
  {
   "cell_type": "code",
   "execution_count": 17,
   "id": "c020df48-0943-407d-b11a-50c702208765",
   "metadata": {},
   "outputs": [
    {
     "name": "stdout",
     "output_type": "stream",
     "text": [
      "[[36 39 51 64 21]\n",
      " [13 47 39 48 70]\n",
      " [23 18 43 58 53]\n",
      " [66 50 31 26 52]\n",
      " [87 93 92 30 15]]\n",
      "\n",
      "dimension: 2\n",
      "size of array dimensions: (5, 5)\n",
      "number of elements in the array: 25\n",
      "\n",
      "array data type: uint64\n",
      "array size in bytes: 200\n",
      "element size in bytes: 8\n",
      "\n",
      "Array indexing: \n",
      "arr[2][3] = 58\n",
      "arr[4][0] = 87\n",
      "arr[4][-2] = 30\n",
      "\n",
      "Slices:\n",
      "arr[0][1:4] = [39 51 64]\n",
      "arr[2][5::-2] = [53 43 23]\n"
     ]
    }
   ],
   "source": [
    "arr = np.random.randint(0, 100, (5, 5), dtype='uint')\n",
    "print(f\"{arr}\\n\")\n",
    "\n",
    "print(f\"dimension: {arr.ndim}\\nsize of array dimensions: {arr.shape}\\nnumber of elements in the array: {arr.size}\\n\")\n",
    "print(f\"array data type: {arr.dtype}\\narray size in bytes: {arr.nbytes}\\nelement size in bytes: {arr.itemsize}\\n\")\n",
    "\n",
    "print(\"Array indexing: \")\n",
    "print(f\"arr[2][3] = {arr[2][3]}\\narr[4][0] = {arr[4][0]}\\narr[4][-2] = {arr[4][-2]}\\n\")\n",
    "\n",
    "print(\"Slices:\")\n",
    "print(f\"arr[0][1:4] = {arr[0][1:4]}\\narr[2][5::-2] = {arr[2][5::-2]}\")"
   ]
  },
  {
   "cell_type": "code",
   "execution_count": 18,
   "id": "814d21ed-cf6d-48ab-a725-832d712feb8c",
   "metadata": {},
   "outputs": [
    {
     "name": "stdout",
     "output_type": "stream",
     "text": [
      "arr: [1 2 3 4 2]\n",
      "arr+1 = [2 3 4 5 3]\n",
      "arr^2 = [ 4  9 16 25  9]\n"
     ]
    }
   ],
   "source": [
    "arr = np.array([1, 2, 3, 4, 2], dtype='uint')\n",
    "print(f\"arr: {arr}\")\n",
    "\n",
    "arr += 1\n",
    "print(f\"arr+1 = {arr}\")\n",
    "\n",
    "arr **= 2\n",
    "print(f\"arr^2 = {arr}\")"
   ]
  },
  {
   "cell_type": "code",
   "execution_count": 19,
   "id": "cad2d718-4904-48a5-b36b-82b286befd6d",
   "metadata": {},
   "outputs": [
    {
     "name": "stdout",
     "output_type": "stream",
     "text": [
      "16777216\n",
      "[       2        8     4096 16777216]\n"
     ]
    }
   ],
   "source": [
    "arr = np.array([2, 3, 4, 2], dtype='uint')\n",
    "\n",
    "arr_pow = np.power.reduce(arr) # 2^3 => 8^4 => 4096^2 => 16777216\n",
    "print(arr_pow)\n",
    "\n",
    "arr_acc = np.power.accumulate(arr)\n",
    "print(arr_acc)"
   ]
  },
  {
   "cell_type": "code",
   "execution_count": 20,
   "id": "09e8fee9-2a5e-453c-9e0e-de77773cc5da",
   "metadata": {},
   "outputs": [
    {
     "name": "stdout",
     "output_type": "stream",
     "text": [
      "[[ 1  2  3  4  5  6]\n",
      " [ 3  6  9 12 15 18]\n",
      " [ 5 10 15 20 25 30]\n",
      " [ 7 14 21 28 35 42]\n",
      " [ 9 18 27 36 45 54]\n",
      " [11 22 33 44 55 66]]\n"
     ]
    }
   ],
   "source": [
    "arr_1 = np.arange(1, 12, 2, dtype='uint') # [1 3 5 7 9 11]\n",
    "arr_2 = np.arange(1, 7, dtype='uint')     # [1 2 3 4 5 6]\n",
    "\n",
    "sum_of_pairs = np.multiply.outer(arr_1, arr_2)\n",
    "print(sum_of_pairs)"
   ]
  },
  {
   "cell_type": "code",
   "execution_count": 21,
   "id": "39d91b07-ad1c-48d0-9431-31db71742b6b",
   "metadata": {},
   "outputs": [
    {
     "name": "stdout",
     "output_type": "stream",
     "text": [
      "min: 2\n",
      "max: 12\n",
      "average value: 7.0\n",
      "\n",
      "standard deviation: 3.415650255319866\n",
      "dispersion: 11.666666666666666\n",
      "median: 7.0\n",
      "percentiles [25%, 75%]: [4.5 9.5]\n"
     ]
    }
   ],
   "source": [
    "arr = np.arange(2, 13, 2, dtype='uint') # [2, 4, 6, 8, 10, 12]\n",
    "\n",
    "print(f\"min: {arr.min()}\\nmax: {arr.max()}\\naverage value: {arr.mean()}\\n\")\n",
    "print(f\"standard deviation: {arr.std()}\\ndispersion: {arr.var()}\\nmedian: {np.median(arr)}\")\n",
    "print(f\"percentiles [25%, 75%]: {np.percentile(arr, (25, 75))}\")"
   ]
  }
 ],
 "metadata": {
  "kernelspec": {
   "display_name": "Python 3 (ipykernel)",
   "language": "python",
   "name": "python3"
  },
  "language_info": {
   "codemirror_mode": {
    "name": "ipython",
    "version": 3
   },
   "file_extension": ".py",
   "mimetype": "text/x-python",
   "name": "python",
   "nbconvert_exporter": "python",
   "pygments_lexer": "ipython3",
   "version": "3.11.4"
  }
 },
 "nbformat": 4,
 "nbformat_minor": 5
}
